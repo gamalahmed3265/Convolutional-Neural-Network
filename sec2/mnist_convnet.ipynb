{
  "metadata": {
    "kernelspec": {
      "language": "python",
      "display_name": "Python 3",
      "name": "python3"
    },
    "language_info": {
      "name": "python",
      "version": "3.7.12",
      "mimetype": "text/x-python",
      "codemirror_mode": {
        "name": "ipython",
        "version": 3
      },
      "pygments_lexer": "ipython3",
      "nbconvert_exporter": "python",
      "file_extension": ".py"
    },
    "colab": {
      "provenance": []
    }
  },
  "nbformat_minor": 0,
  "nbformat": 4,
  "cells": [
    {
      "cell_type": "code",
      "source": [
        "import numpy as np\n",
        "from tensorflow import keras\n",
        "from tensorflow.keras import layers"
      ],
      "metadata": {
        "_uuid": "8f2839f25d086af736a60e9eeb907d3b93b6e0e5",
        "_cell_guid": "b1076dfc-b9ad-4769-8c92-a6c4dae69d19",
        "execution": {
          "iopub.status.busy": "2022-10-04T17:47:38.486800Z",
          "iopub.execute_input": "2022-10-04T17:47:38.487807Z",
          "iopub.status.idle": "2022-10-04T17:47:40.208727Z",
          "shell.execute_reply.started": "2022-10-04T17:47:38.487726Z",
          "shell.execute_reply": "2022-10-04T17:47:40.207751Z"
        },
        "trusted": true,
        "id": "VqDl8IyJBtgM"
      },
      "execution_count": null,
      "outputs": []
    },
    {
      "cell_type": "code",
      "source": [
        "# Model / data parameters\n",
        "num_classes = 10\n",
        "input_shape = (28, 28, 1)\n",
        "\n",
        "# Load the data and split it between train and test sets\n",
        "(x_train, y_train), (x_test, y_test) = keras.datasets.mnist.load_data()\n",
        "\n",
        "# Scale images to the [0, 1] range\n",
        "x_train = x_train.astype(\"float32\") / 255\n",
        "x_test = x_test.astype(\"float32\") / 255\n",
        "\n",
        "# images shape (28, 28) >> (28, 28, 1)\n",
        "x_train = np.expand_dims(x_train, -1)\n",
        "x_test = np.expand_dims(x_test, -1)\n",
        "print(\"x_train shape:\", x_train.shape)\n",
        "print(x_train.shape[0], \"train samples\")\n",
        "print(x_test.shape[0], \"test samples\")\n",
        "\n",
        "\n",
        "# convert class vectors to binary class matrices\n",
        "y_train = keras.utils.to_categorical(y_train, num_classes)\n",
        "y_test = keras.utils.to_categorical(y_test, num_classes)"
      ],
      "metadata": {
        "execution": {
          "iopub.status.busy": "2022-10-04T17:47:40.210357Z",
          "iopub.execute_input": "2022-10-04T17:47:40.211068Z",
          "iopub.status.idle": "2022-10-04T17:47:40.541546Z",
          "shell.execute_reply.started": "2022-10-04T17:47:40.211030Z",
          "shell.execute_reply": "2022-10-04T17:47:40.539569Z"
        },
        "trusted": true,
        "id": "z5hPc0qYBtgQ",
        "outputId": "8c76c86d-c1ec-434f-ee8c-f8997d8f7393"
      },
      "execution_count": null,
      "outputs": [
        {
          "name": "stdout",
          "text": "x_train shape: (60000, 28, 28, 1)\n60000 train samples\n10000 test samples\n",
          "output_type": "stream"
        }
      ]
    },
    {
      "cell_type": "code",
      "source": [
        "'''\n",
        "import tensorflow as tf\n",
        "[0, 1, 2, 3]\n",
        "a = tf.keras.utils.to_categorical([0, 1, 2, 3], num_classes=4)\n",
        "a = tf.constant(a, shape=[4, 4])\n",
        "print(a)\n",
        "[[1,0,0,0],\n",
        " [0,1,0,0],\n",
        " [0,0,1,0],\n",
        " [0,0,0,1]]\n",
        " '''\n"
      ],
      "metadata": {
        "execution": {
          "iopub.status.busy": "2022-10-04T19:46:17.759992Z",
          "iopub.execute_input": "2022-10-04T19:46:17.760835Z",
          "iopub.status.idle": "2022-10-04T19:46:26.313704Z",
          "shell.execute_reply.started": "2022-10-04T19:46:17.760744Z",
          "shell.execute_reply": "2022-10-04T19:46:26.312575Z"
        },
        "trusted": true,
        "id": "kqXAyOMEBtgR",
        "outputId": "0a10c91a-dfdf-4b43-a825-27fc7c2dd7bd"
      },
      "execution_count": null,
      "outputs": [
        {
          "name": "stderr",
          "text": "2022-10-04 19:46:23.357654: I tensorflow/stream_executor/cuda/cuda_gpu_executor.cc:937] successful NUMA node read from SysFS had negative value (-1), but there must be at least one NUMA node, so returning NUMA node zero\n2022-10-04 19:46:23.448444: I tensorflow/stream_executor/cuda/cuda_gpu_executor.cc:937] successful NUMA node read from SysFS had negative value (-1), but there must be at least one NUMA node, so returning NUMA node zero\n2022-10-04 19:46:23.449246: I tensorflow/stream_executor/cuda/cuda_gpu_executor.cc:937] successful NUMA node read from SysFS had negative value (-1), but there must be at least one NUMA node, so returning NUMA node zero\n",
          "output_type": "stream"
        },
        {
          "name": "stdout",
          "text": "tf.Tensor(\n[[1. 0. 0. 0.]\n [0. 1. 0. 0.]\n [0. 0. 1. 0.]\n [0. 0. 0. 1.]], shape=(4, 4), dtype=float32)\n",
          "output_type": "stream"
        },
        {
          "name": "stderr",
          "text": "2022-10-04 19:46:23.452360: I tensorflow/core/platform/cpu_feature_guard.cc:142] This TensorFlow binary is optimized with oneAPI Deep Neural Network Library (oneDNN) to use the following CPU instructions in performance-critical operations:  AVX2 AVX512F FMA\nTo enable them in other operations, rebuild TensorFlow with the appropriate compiler flags.\n2022-10-04 19:46:23.452732: I tensorflow/stream_executor/cuda/cuda_gpu_executor.cc:937] successful NUMA node read from SysFS had negative value (-1), but there must be at least one NUMA node, so returning NUMA node zero\n2022-10-04 19:46:23.453769: I tensorflow/stream_executor/cuda/cuda_gpu_executor.cc:937] successful NUMA node read from SysFS had negative value (-1), but there must be at least one NUMA node, so returning NUMA node zero\n2022-10-04 19:46:23.454733: I tensorflow/stream_executor/cuda/cuda_gpu_executor.cc:937] successful NUMA node read from SysFS had negative value (-1), but there must be at least one NUMA node, so returning NUMA node zero\n2022-10-04 19:46:25.933388: I tensorflow/stream_executor/cuda/cuda_gpu_executor.cc:937] successful NUMA node read from SysFS had negative value (-1), but there must be at least one NUMA node, so returning NUMA node zero\n2022-10-04 19:46:25.934315: I tensorflow/stream_executor/cuda/cuda_gpu_executor.cc:937] successful NUMA node read from SysFS had negative value (-1), but there must be at least one NUMA node, so returning NUMA node zero\n2022-10-04 19:46:25.935037: I tensorflow/stream_executor/cuda/cuda_gpu_executor.cc:937] successful NUMA node read from SysFS had negative value (-1), but there must be at least one NUMA node, so returning NUMA node zero\n2022-10-04 19:46:25.935680: I tensorflow/core/common_runtime/gpu/gpu_device.cc:1510] Created device /job:localhost/replica:0/task:0/device:GPU:0 with 15401 MB memory:  -> device: 0, name: Tesla P100-PCIE-16GB, pci bus id: 0000:00:04.0, compute capability: 6.0\n",
          "output_type": "stream"
        }
      ]
    },
    {
      "cell_type": "code",
      "source": [
        "from tensorflow.keras.layers import Input, Conv2D, MaxPooling2D, Flatten, Dropout, Dense\n",
        "\n",
        "model = keras.Sequential()\n",
        "model.add(Conv2D(32, kernel_size=(3, 3), activation=\"relu\", input_shape = input_shape))\n",
        "model.add(MaxPooling2D(pool_size=(2, 2)))\n",
        "model.add(Conv2D(64, kernel_size=(3, 3), activation=\"relu\"))\n",
        "model.add(MaxPooling2D(pool_size=(2, 2)))\n",
        "model.add(Flatten())\n",
        "model.add(Dropout(0.5))\n",
        "model.add(Dense(num_classes, activation=\"softmax\"))\n",
        "\n",
        "model.summary()"
      ],
      "metadata": {
        "execution": {
          "iopub.status.busy": "2022-10-04T17:50:42.960560Z",
          "iopub.execute_input": "2022-10-04T17:50:42.961037Z",
          "iopub.status.idle": "2022-10-04T17:50:43.007126Z",
          "shell.execute_reply.started": "2022-10-04T17:50:42.960997Z",
          "shell.execute_reply": "2022-10-04T17:50:43.006118Z"
        },
        "trusted": true,
        "id": "zOTJQiF0BtgT",
        "outputId": "951ce4b5-5ca0-491f-d544-1c4710c60117"
      },
      "execution_count": null,
      "outputs": [
        {
          "name": "stdout",
          "text": "Model: \"sequential_1\"\n_________________________________________________________________\nLayer (type)                 Output Shape              Param #   \n=================================================================\nconv2d_2 (Conv2D)            (None, 26, 26, 32)        320       \n_________________________________________________________________\nmax_pooling2d_2 (MaxPooling2 (None, 13, 13, 32)        0         \n_________________________________________________________________\nconv2d_3 (Conv2D)            (None, 11, 11, 64)        18496     \n_________________________________________________________________\nmax_pooling2d_3 (MaxPooling2 (None, 5, 5, 64)          0         \n_________________________________________________________________\nflatten_1 (Flatten)          (None, 1600)              0         \n_________________________________________________________________\ndropout_1 (Dropout)          (None, 1600)              0         \n_________________________________________________________________\ndense_1 (Dense)              (None, 10)                16010     \n=================================================================\nTotal params: 34,826\nTrainable params: 34,826\nNon-trainable params: 0\n_________________________________________________________________\n",
          "output_type": "stream"
        }
      ]
    },
    {
      "cell_type": "code",
      "source": [
        "batch_size = 128\n",
        "epochs = 15\n",
        "\n",
        "model.compile(loss=\"categorical_crossentropy\", optimizer=\"adam\", metrics=[\"accuracy\"])\n",
        "\n",
        "history = model.fit(x_train, y_train, batch_size=batch_size, epochs=epochs, validation_split=0.1)"
      ],
      "metadata": {
        "execution": {
          "iopub.status.busy": "2022-10-04T17:47:41.655369Z",
          "iopub.execute_input": "2022-10-04T17:47:41.656087Z",
          "iopub.status.idle": "2022-10-04T17:48:23.542486Z",
          "shell.execute_reply.started": "2022-10-04T17:47:41.656049Z",
          "shell.execute_reply": "2022-10-04T17:48:23.541469Z"
        },
        "trusted": true,
        "id": "ExqNe06mBtgU",
        "outputId": "011b0da7-d440-48be-eeb7-f2cbbac6293e"
      },
      "execution_count": null,
      "outputs": [
        {
          "name": "stderr",
          "text": "2022-10-04 17:47:42.201279: I tensorflow/compiler/mlir/mlir_graph_optimization_pass.cc:185] None of the MLIR Optimization Passes are enabled (registered 2)\n",
          "output_type": "stream"
        },
        {
          "name": "stdout",
          "text": "Epoch 1/15\n",
          "output_type": "stream"
        },
        {
          "name": "stderr",
          "text": "2022-10-04 17:47:42.901697: I tensorflow/stream_executor/cuda/cuda_dnn.cc:369] Loaded cuDNN version 8005\n",
          "output_type": "stream"
        },
        {
          "name": "stdout",
          "text": "422/422 [==============================] - 3s 4ms/step - loss: 0.3628 - accuracy: 0.8913 - val_loss: 0.0785 - val_accuracy: 0.9787\nEpoch 2/15\n422/422 [==============================] - 2s 4ms/step - loss: 0.1084 - accuracy: 0.9663 - val_loss: 0.0528 - val_accuracy: 0.9857\nEpoch 3/15\n422/422 [==============================] - 2s 4ms/step - loss: 0.0830 - accuracy: 0.9743 - val_loss: 0.0465 - val_accuracy: 0.9885\nEpoch 4/15\n422/422 [==============================] - 2s 4ms/step - loss: 0.0682 - accuracy: 0.9785 - val_loss: 0.0406 - val_accuracy: 0.9890\nEpoch 5/15\n422/422 [==============================] - 2s 4ms/step - loss: 0.0611 - accuracy: 0.9806 - val_loss: 0.0371 - val_accuracy: 0.9897\nEpoch 6/15\n422/422 [==============================] - 2s 4ms/step - loss: 0.0543 - accuracy: 0.9829 - val_loss: 0.0334 - val_accuracy: 0.9913\nEpoch 7/15\n422/422 [==============================] - 2s 4ms/step - loss: 0.0505 - accuracy: 0.9837 - val_loss: 0.0315 - val_accuracy: 0.9915\nEpoch 8/15\n422/422 [==============================] - 2s 4ms/step - loss: 0.0453 - accuracy: 0.9863 - val_loss: 0.0301 - val_accuracy: 0.9913\nEpoch 9/15\n422/422 [==============================] - 2s 4ms/step - loss: 0.0435 - accuracy: 0.9863 - val_loss: 0.0304 - val_accuracy: 0.9917\nEpoch 10/15\n422/422 [==============================] - 2s 4ms/step - loss: 0.0421 - accuracy: 0.9864 - val_loss: 0.0308 - val_accuracy: 0.9918\nEpoch 11/15\n422/422 [==============================] - 2s 4ms/step - loss: 0.0383 - accuracy: 0.9879 - val_loss: 0.0301 - val_accuracy: 0.9918\nEpoch 12/15\n422/422 [==============================] - 2s 4ms/step - loss: 0.0350 - accuracy: 0.9888 - val_loss: 0.0313 - val_accuracy: 0.9928\nEpoch 13/15\n422/422 [==============================] - 2s 4ms/step - loss: 0.0361 - accuracy: 0.9882 - val_loss: 0.0285 - val_accuracy: 0.9927\nEpoch 14/15\n422/422 [==============================] - 2s 5ms/step - loss: 0.0337 - accuracy: 0.9886 - val_loss: 0.0299 - val_accuracy: 0.9917\nEpoch 15/15\n422/422 [==============================] - 2s 4ms/step - loss: 0.0310 - accuracy: 0.9898 - val_loss: 0.0301 - val_accuracy: 0.9923\n",
          "output_type": "stream"
        }
      ]
    },
    {
      "cell_type": "code",
      "source": [
        "score = model.evaluate(x_test, y_test, verbose=0)\n",
        "print(\"Test loss:\", score[0])\n",
        "print(\"Test accuracy:\", score[1])"
      ],
      "metadata": {
        "execution": {
          "iopub.status.busy": "2022-10-04T17:48:23.544305Z",
          "iopub.execute_input": "2022-10-04T17:48:23.544713Z",
          "iopub.status.idle": "2022-10-04T17:48:24.238209Z",
          "shell.execute_reply.started": "2022-10-04T17:48:23.544677Z",
          "shell.execute_reply": "2022-10-04T17:48:24.237219Z"
        },
        "trusted": true,
        "id": "PiGr6JBPBtgU",
        "outputId": "d4aa1b67-64e5-4c78-db65-caec9f5b3770"
      },
      "execution_count": null,
      "outputs": [
        {
          "name": "stdout",
          "text": "Test loss: 0.022887717932462692\nTest accuracy: 0.9926000237464905\n",
          "output_type": "stream"
        }
      ]
    },
    {
      "cell_type": "code",
      "source": [
        "import pandas as pd\n",
        "import matplotlib.pyplot as plt\n",
        "\n",
        "pd.DataFrame(history.history)\n",
        "\n",
        "pd.DataFrame(history.history)[[\"accuracy\", \"val_accuracy\"]].plot()\n",
        "plt.title(\"Training Accuracy\")\n",
        "plt.xlabel(\"Epochs\")\n",
        "plt.ylabel(\"accuracy\")\n",
        "\n",
        "pd.DataFrame(history.history)[[\"loss\", \"val_loss\"]].plot()\n",
        "plt.title(\"Model Loss\")\n",
        "plt.xlabel(\"Epochs\")\n",
        "plt.ylabel(\"Loss\")"
      ],
      "metadata": {
        "execution": {
          "iopub.status.busy": "2022-10-04T17:48:24.239553Z",
          "iopub.execute_input": "2022-10-04T17:48:24.240192Z",
          "iopub.status.idle": "2022-10-04T17:48:24.672466Z",
          "shell.execute_reply.started": "2022-10-04T17:48:24.240162Z",
          "shell.execute_reply": "2022-10-04T17:48:24.671415Z"
        },
        "trusted": true,
        "id": "Bs32nRSnBtgV",
        "outputId": "5b2e6408-e578-4a4f-f4a5-84476eb436c9"
      },
      "execution_count": null,
      "outputs": [
        {
          "execution_count": 6,
          "output_type": "execute_result",
          "data": {
            "text/plain": "Text(0, 0.5, 'Loss')"
          },
          "metadata": {}
        },
        {
          "output_type": "display_data",
          "data": {
            "text/plain": "<Figure size 432x288 with 1 Axes>",
            "image/png": "[encoded data removed]"
          },
          "metadata": {
            "needs_background": "light"
          }
        },
        {
          "output_type": "display_data",
          "data": {
            "text/plain": "<Figure size 432x288 with 1 Axes>",
            "image/png": "[encoded data removed]"
          },
          "metadata": {
            "needs_background": "light"
          }
        }
      ]
    }
  ]
}